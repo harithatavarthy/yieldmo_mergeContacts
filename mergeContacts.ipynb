{
 "cells": [
  {
   "cell_type": "markdown",
   "metadata": {},
   "source": [
    "## Merge a list of contacts by phone or email (similar to feature you have in phones)\n",
    "\n",
    "###  Given\n",
    "\n",
    "[{Name:'Mr. X', phone:'123-456-7890', email: 'x@yieldmo.com'},\n",
    "\n",
    "{Name:'Ms. Y', phone:'456-789-1234', email: 'y@yieldmo.com'},\n",
    "\n",
    "{Name:'Mr. X1', phone:'123-456-7890', email: 'x@gmail.com'},\n",
    "\n",
    "{Name:'Ms. Y1', phone:'456-789-9999', email: 'y@yieldmo.com'}]\n",
    "\n",
    "###  Return:\n",
    "\n",
    "[\n",
    "[{Name:'Mr. X', phone:'123-456-7890', email: 'x@yieldmo.com'},{Name:'Mr. X1', phone:'123-456-7890', email: 'x@gmail.com'}],\n",
    "\n",
    "[{Name:'Ms. Y', phone:'456-789-1234', email: 'y@yieldmo.com'},{Name:'Ms. Y1', phone:'456-789-9999', email: 'y@yieldmo.com'}]\n",
    "]\n",
    "\n",
    "### Function Signature\n",
    "\n",
    "class Contact(name: String, phone: String, email: String)\n",
    "\n",
    "def mergeUsers(contacts: List[Contact]): List[List[Contact]]"
   ]
  },
  {
   "cell_type": "markdown",
   "metadata": {},
   "source": [
    "---------------------------------------------------------------------------------------------------\n",
    "# Solution...\n",
    "\n",
    "### At first we will define a class by name `Contact`. This class basically represents the structure to hold user contact\n",
    "\n",
    "`class Contact(name: String, phone: String, email: String)`"
   ]
  },
  {
   "cell_type": "code",
   "execution_count": 2,
   "metadata": {},
   "outputs": [],
   "source": [
    "class Contact():\n",
    "    def __init__(self,name,phone,email):\n",
    "        self.name = name\n",
    "        self.phone = phone\n",
    "        self.email = email\n",
    "        \n",
    "    def __str__(self):\n",
    "        return str(self.__class__) + \": \" + str(self.__dict__)"
   ]
  },
  {
   "cell_type": "markdown",
   "metadata": {},
   "source": [
    "## Below we will define a function `mergeUser`. This function takes as input the list of contacts and merges together the contacts with same `phone` or `email` as a new list . It returns the list of list of contacts .\n",
    "\n",
    "Function Signature:\n",
    "\n",
    "`def mergeUsers(contacts: List[Contact]): List[List[Contact]]`"
   ]
  },
  {
   "cell_type": "code",
   "execution_count": 3,
   "metadata": {},
   "outputs": [],
   "source": [
    "def mergeUsers(contacts):\n",
    "    if isinstance(contacts, (list,)):\n",
    "        \n",
    "        dup_contacts = contacts.copy()\n",
    "\n",
    "        merged_contacts_list = []\n",
    "\n",
    "        for contact in contacts:\n",
    "\n",
    "            contact_list = []\n",
    "            contact_list.append(contact)\n",
    "\n",
    "            for dup_contact  in dup_contacts:\n",
    "                if (contact != dup_contact) and (contact.phone == dup_contact.phone or contact.email == dup_contact.email):\n",
    "                    contacts.remove(dup_contact)\n",
    "                    contact_list.append(dup_contact)\n",
    "            merged_contacts_list.append(contact_list)\n",
    "        \n",
    "    return merged_contacts_list\n"
   ]
  },
  {
   "cell_type": "markdown",
   "metadata": {},
   "source": [
    "### We will then create a list of contacts and call the function `mergeUsers` by passing this list of contacts as input. The function returns another list , which we will print to see if it indeed returned the list of lists. \n",
    "\n",
    "### Given the list of lists contain objects of type `Contact`, we will print the variables that forms the object to visualize the output "
   ]
  },
  {
   "cell_type": "code",
   "execution_count": 4,
   "metadata": {},
   "outputs": [
    {
     "name": "stdout",
     "output_type": "stream",
     "text": [
      "Printing list of list of objects...\n",
      "--------------------------\n",
      "[[<__main__.Contact object at 0x0000020BA7769F98>, <__main__.Contact object at 0x0000020BA77EF048>], [<__main__.Contact object at 0x0000020BA7769FD0>, <__main__.Contact object at 0x0000020BA77EF080>]]\n",
      "\n",
      "\n",
      "\n",
      "\n",
      "Visualizing the output....\n",
      "--------------------------\n",
      "[\n",
      "[\n",
      "<class '__main__.Contact'>: {'name': 'Mr. X', 'phone': '123-456-7890', 'email': 'x@yieldmo.com'}\n",
      "<class '__main__.Contact'>: {'name': 'Mr. X1', 'phone': '123-456-7890', 'email': 'x@gmail.com'}\n",
      "]\n",
      "[\n",
      "<class '__main__.Contact'>: {'name': 'Mr. Y', 'phone': '456-789-1234', 'email': 'y@yieldmo.com'}\n",
      "<class '__main__.Contact'>: {'name': 'Mr. Y1', 'phone': '456-789-9999', 'email': 'y@yieldmo.com'}\n",
      "]\n",
      "]\n"
     ]
    }
   ],
   "source": [
    "if __name__ == \"__main__\":\n",
    "    contacts = [Contact(\"Mr. X\", \"123-456-7890\", \"x@yieldmo.com\"),Contact('Mr. Y', '456-789-1234', 'y@yieldmo.com')\n",
    "               ,Contact(\"Mr. X1\", \"123-456-7890\", \"x@gmail.com\"),Contact('Mr. Y1', '456-789-9999', 'y@yieldmo.com')]\n",
    "\n",
    "\n",
    "    merged_contacts_list  = mergeUsers(contacts)\n",
    "    print(\"Printing list of list of objects...\")\n",
    "    print(\"--------------------------\")\n",
    "    print(merged_contacts_list)\n",
    "\n",
    "    print(\"\\n\")\n",
    "\n",
    "    print(\"\\n\")\n",
    "\n",
    "    print(\"Visualizing the output....\")\n",
    "    print(\"--------------------------\")\n",
    "    print(\"[\")\n",
    "    for i in range(len(merged_contacts_list)):\n",
    "        print(\"[\")\n",
    "        for j in range(len(merged_contacts_list[i])):\n",
    "            print(merged_contacts_list[i][j])\n",
    "        print(\"]\")\n",
    "\n",
    "    print(\"]\")"
   ]
  },
  {
   "cell_type": "markdown",
   "metadata": {},
   "source": [
    "## we will test the function we defined by running against a complex contact list."
   ]
  },
  {
   "cell_type": "code",
   "execution_count": 5,
   "metadata": {},
   "outputs": [
    {
     "name": "stdout",
     "output_type": "stream",
     "text": [
      "Printing list of list of objects...\n",
      "--------------------------\n",
      "[[<__main__.Contact object at 0x0000020BA77EFFD0>, <__main__.Contact object at 0x0000020BA77E7080>, <__main__.Contact object at 0x0000020BA77E70F0>, <__main__.Contact object at 0x0000020BA77E7198>, <__main__.Contact object at 0x0000020BA77E71D0>, <__main__.Contact object at 0x0000020BA77E7240>, <__main__.Contact object at 0x0000020BA77E72B0>], [<__main__.Contact object at 0x0000020BA77E7048>, <__main__.Contact object at 0x0000020BA77E70B8>, <__main__.Contact object at 0x0000020BA77E7128>], [<__main__.Contact object at 0x0000020BA77E7160>], [<__main__.Contact object at 0x0000020BA77E7208>, <__main__.Contact object at 0x0000020BA77E7278>], [<__main__.Contact object at 0x0000020BA77E72E8>]]\n",
      "\n",
      "\n",
      "\n",
      "\n",
      "Visualizing the output....\n",
      "--------------------------\n",
      "[\n",
      "[\n",
      "<class '__main__.Contact'>: {'name': 'Mr. X', 'phone': '123-456-7890', 'email': 'x@yieldmo.com'}\n",
      "<class '__main__.Contact'>: {'name': 'Mr. X1', 'phone': '123-456-7890', 'email': 'x@gmail.com'}\n",
      "<class '__main__.Contact'>: {'name': 'Mr. X3', 'phone': '123-456-7890', 'email': 'x@yahoo.com'}\n",
      "<class '__main__.Contact'>: {'name': 'Mr. X4', 'phone': '456-789-2239', 'email': 'x@yieldmo.com'}\n",
      "<class '__main__.Contact'>: {'name': 'Mr. X1', 'phone': '123-456-7890', 'email': 'x@gmail.com'}\n",
      "<class '__main__.Contact'>: {'name': 'Mr. X1', 'phone': '123-456-7890', 'email': 'x@gmail.com'}\n",
      "<class '__main__.Contact'>: {'name': 'Mr. X1', 'phone': '123-456-7890', 'email': 'x@gmail.com'}\n",
      "]\n",
      "[\n",
      "<class '__main__.Contact'>: {'name': 'Mr. Y', 'phone': '456-789-1234', 'email': 'y@yieldmo.com'}\n",
      "<class '__main__.Contact'>: {'name': 'Mr. Y1', 'phone': '456-789-9999', 'email': 'y@yieldmo.com'}\n",
      "<class '__main__.Contact'>: {'name': 'Mr. Y2', 'phone': '456-789-1234', 'email': 'y@yieldmo.com'}\n",
      "]\n",
      "[\n",
      "<class '__main__.Contact'>: {'name': 'Mr. Y3', 'phone': '456-789-1238', 'email': 'y@gmail.com'}\n",
      "]\n",
      "[\n",
      "<class '__main__.Contact'>: {'name': 'Mr. Z', 'phone': '456-789-1134', 'email': 'z@yieldmo.com'}\n",
      "<class '__main__.Contact'>: {'name': 'Mr. Z', 'phone': '456-789-1134', 'email': 'z@yieldmo.com'}\n",
      "]\n",
      "[\n",
      "<class '__main__.Contact'>: {'name': 'Mr. Z3', 'phone': '456-789-1139', 'email': 'z3@yieldmo.com'}\n",
      "]\n",
      "]\n"
     ]
    }
   ],
   "source": [
    "contacts = [Contact(\"Mr. X\", \"123-456-7890\", \"x@yieldmo.com\"),Contact('Mr. Y', '456-789-1234', 'y@yieldmo.com')\n",
    "           ,Contact(\"Mr. X1\", \"123-456-7890\", \"x@gmail.com\"),Contact('Mr. Y1', '456-789-9999', 'y@yieldmo.com')\n",
    "           ,Contact(\"Mr. X3\", \"123-456-7890\", \"x@yahoo.com\"),Contact('Mr. Y2', '456-789-1234', 'y@yieldmo.com')\n",
    "           ,Contact(\"Mr. Y3\", \"456-789-1238\", \"y@gmail.com\"),Contact('Mr. X4', '456-789-2239', 'x@yieldmo.com')\n",
    "           ,Contact(\"Mr. X1\", \"123-456-7890\", \"x@gmail.com\"),Contact('Mr. Z', '456-789-1134', 'z@yieldmo.com')\n",
    "           ,Contact(\"Mr. X1\", \"123-456-7890\", \"x@gmail.com\"),Contact('Mr. Z', '456-789-1134', 'z@yieldmo.com')\n",
    "           ,Contact(\"Mr. X1\", \"123-456-7890\", \"x@gmail.com\"),Contact('Mr. Z3', '456-789-1139', 'z3@yieldmo.com')]\n",
    "\n",
    "merged_contacts_list  = mergeUsers(contacts)\n",
    "print(\"Printing list of list of objects...\")\n",
    "print(\"--------------------------\")\n",
    "print(merged_contacts_list)\n",
    "\n",
    "print(\"\\n\")\n",
    "\n",
    "print(\"\\n\")\n",
    "\n",
    "print(\"Visualizing the output....\")\n",
    "print(\"--------------------------\")\n",
    "print(\"[\")\n",
    "for i in range(len(merged_contacts_list)):\n",
    "    print(\"[\")\n",
    "    for j in range(len(merged_contacts_list[i])):\n",
    "        print(merged_contacts_list[i][j])\n",
    "    print(\"]\")\n",
    "\n",
    "print(\"]\")"
   ]
  },
  {
   "cell_type": "code",
   "execution_count": null,
   "metadata": {},
   "outputs": [],
   "source": []
  },
  {
   "cell_type": "code",
   "execution_count": null,
   "metadata": {},
   "outputs": [],
   "source": []
  }
 ],
 "metadata": {
  "kernelspec": {
   "display_name": "Python 3",
   "language": "python",
   "name": "python3"
  },
  "language_info": {
   "codemirror_mode": {
    "name": "ipython",
    "version": 3
   },
   "file_extension": ".py",
   "mimetype": "text/x-python",
   "name": "python",
   "nbconvert_exporter": "python",
   "pygments_lexer": "ipython3",
   "version": "3.7.3"
  }
 },
 "nbformat": 4,
 "nbformat_minor": 2
}
